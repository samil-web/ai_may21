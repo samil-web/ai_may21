{
 "cells": [
  {
   "cell_type": "code",
   "execution_count": 1,
   "id": "complimentary-handbook",
   "metadata": {
    "slideshow": {
     "slide_type": "slide"
    }
   },
   "outputs": [],
   "source": [
    "# Import the needed libraries\n",
    "import numpy as np"
   ]
  },
  {
   "cell_type": "markdown",
   "id": "pacific-kentucky",
   "metadata": {},
   "source": [
    "**72. How to swap two rows of an array?** "
   ]
  },
  {
   "cell_type": "code",
   "execution_count": 6,
   "id": "proper-reservoir",
   "metadata": {},
   "outputs": [
    {
     "output_type": "stream",
     "name": "stdout",
     "text": [
      "Original array: \n [[0.77829041 0.80500119]\n [0.47204096 0.31876268]\n [0.013468   0.31567173]] \n\nAfter swap: \n [[0.013468   0.31567173]\n [0.47204096 0.31876268]\n [0.77829041 0.80500119]]\n"
     ]
    }
   ],
   "source": [
    "A = np.random.random((3,2))\n",
    "# A = A [[-1],:] \n",
    "# print(A)\n",
    "# A[[-1],:] = A[[0],:]\n",
    "print('Original array:','\\n',A,'\\n')\n",
    "A[:,::-1]\n",
    "print('After swap:','\\n',A[::-1,:])"
   ]
  },
  {
   "cell_type": "markdown",
   "id": "outer-encoding",
   "metadata": {},
   "source": [
    "**75. How to compute averages using a sliding window over an array?**"
   ]
  },
  {
   "cell_type": "code",
   "execution_count": 7,
   "id": "active-reply",
   "metadata": {},
   "outputs": [
    {
     "output_type": "stream",
     "name": "stdout",
     "text": [
      "[ 1  3  6 10 15]\n0\n1\n2\n3\n4\n[1, 1, 2, 2, 3]\n"
     ]
    }
   ],
   "source": [
    "a = [1,2,3,4,5]\n",
    "avg = np.cumsum(a)\n",
    "print(avg)\n",
    "avarages = []\n",
    "for i in range(len(a)):\n",
    "    print(i)\n",
    "    avarages.append(avg[i]//(i+1)) \n",
    "print(avarages)"
   ]
  },
  {
   "cell_type": "code",
   "execution_count": null,
   "metadata": {},
   "outputs": [],
   "source": []
  }
 ],
 "metadata": {
  "kernelspec": {
   "name": "python3810jvsc74a57bd0f5610a57ce5a66969d95506b8c0c9e3b70160de2f7592df689878f178730b779",
   "display_name": "Python 3.8.10 64-bit ('strive': conda)"
  },
  "language_info": {
   "codemirror_mode": {
    "name": "ipython",
    "version": 3
   },
   "file_extension": ".py",
   "mimetype": "text/x-python",
   "name": "python",
   "nbconvert_exporter": "python",
   "pygments_lexer": "ipython3",
   "version": "3.8.10"
  }
 },
 "nbformat": 4,
 "nbformat_minor": 5
}