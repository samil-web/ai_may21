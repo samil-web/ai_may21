{
 "cells": [
  {
   "cell_type": "code",
   "execution_count": 1,
   "id": "biological-worcester",
   "metadata": {},
   "outputs": [],
   "source": [
    "# Import the needed libraries\n",
    "import numpy as np"
   ]
  },
  {
   "cell_type": "markdown",
   "id": "champion-greensboro",
   "metadata": {},
   "source": [
    "**13. Create a 10x10 array with random values and find the minimum and maximum values**"
   ]
  },
  {
   "cell_type": "code",
   "execution_count": 2,
   "id": "joint-explorer",
   "metadata": {},
   "outputs": [
    {
     "output_type": "stream",
     "name": "stdout",
     "text": [
      "0.0026280299441726607\n0.9943581290456939\n"
     ]
    }
   ],
   "source": [
    "min_max = np.random.random((10,10))\n",
    "min_ = min_max.min()\n",
    "print(min_)\n",
    "max_ = min_max.max()\n",
    "print(max_)"
   ]
  },
  {
   "cell_type": "markdown",
   "id": "exempt-organ",
   "metadata": {},
   "source": [
    "**15. Create a 2d array with 1 on the border and 0 inside**"
   ]
  },
  {
   "cell_type": "code",
   "execution_count": 3,
   "id": "sufficient-facility",
   "metadata": {},
   "outputs": [
    {
     "output_type": "stream",
     "name": "stdout",
     "text": [
      "[[1 1 1 1 1 1 1 1 1 1]\n [1 0 0 0 0 0 0 0 0 1]\n [1 0 0 0 0 0 0 0 0 1]\n [1 0 0 0 0 0 0 0 0 1]\n [1 0 0 0 0 0 0 0 0 1]\n [1 0 0 0 0 0 0 0 0 1]\n [1 0 0 0 0 0 0 0 0 1]\n [1 0 0 0 0 0 0 0 0 1]\n [1 0 0 0 0 0 0 0 0 1]\n [1 1 1 1 1 1 1 1 1 1]]\n"
     ]
    }
   ],
   "source": [
    "a=np.full((10,10),1)\n",
    "a[1:-1, 1:-1] = 0 # from 1 to end row,from 1 to end column\n",
    "# a[1,1]=1\n",
    "print(a)"
   ]
  },
  {
   "cell_type": "code",
   "execution_count": null,
   "metadata": {},
   "outputs": [],
   "source": []
  }
 ],
 "metadata": {
  "kernelspec": {
   "name": "python3810jvsc74a57bd0f5610a57ce5a66969d95506b8c0c9e3b70160de2f7592df689878f178730b779",
   "display_name": "Python 3.8.10 64-bit ('strive': conda)"
  },
  "language_info": {
   "codemirror_mode": {
    "name": "ipython",
    "version": 3
   },
   "file_extension": ".py",
   "mimetype": "text/x-python",
   "name": "python",
   "nbconvert_exporter": "python",
   "pygments_lexer": "ipython3",
   "version": "3.8.10"
  },
  "metadata": {
   "interpreter": {
    "hash": "fe06f96167c4fc64a78c238d993189072a4e72b444216e36203d6f96126eaf0a"
   }
  }
 },
 "nbformat": 4,
 "nbformat_minor": 5
}