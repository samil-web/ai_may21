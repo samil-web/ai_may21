{
 "metadata": {
  "language_info": {
   "codemirror_mode": {
    "name": "ipython",
    "version": 3
   },
   "file_extension": ".py",
   "mimetype": "text/x-python",
   "name": "python",
   "nbconvert_exporter": "python",
   "pygments_lexer": "ipython3",
   "version": "3.8.10"
  },
  "orig_nbformat": 2,
  "kernelspec": {
   "name": "python3810jvsc74a57bd0f5610a57ce5a66969d95506b8c0c9e3b70160de2f7592df689878f178730b779",
   "display_name": "Python 3.8.10 64-bit ('strive': conda)"
  },
  "metadata": {
   "interpreter": {
    "hash": "fe06f96167c4fc64a78c238d993189072a4e72b444216e36203d6f96126eaf0a"
   }
  }
 },
 "nbformat": 4,
 "nbformat_minor": 2,
 "cells": [
  {
   "cell_type": "code",
   "execution_count": 29,
   "metadata": {},
   "outputs": [],
   "source": [
    "import numpy as np\n",
    "import pandas as pd "
   ]
  },
  {
   "cell_type": "code",
   "execution_count": null,
   "metadata": {},
   "outputs": [],
   "source": []
  },
  {
   "cell_type": "code",
   "execution_count": 30,
   "metadata": {},
   "outputs": [
    {
     "output_type": "stream",
     "name": "stdout",
     "text": [
      "          0         1         2\n0  0.119716  0.076363  0.859251\n1  0.870794  0.127536  0.173040\n2  0.795665  0.143326  0.892196\n3  0.474819  0.563856  0.397180\n4  0.071136  0.683530  0.372812\n"
     ]
    },
    {
     "output_type": "execute_result",
     "data": {
      "text/plain": [
       "          0         1         2\n",
       "0 -0.232061 -0.275413  0.507474\n",
       "1  0.480337 -0.262921 -0.217417\n",
       "2  0.185270 -0.467069  0.281800\n",
       "3 -0.003800  0.085237 -0.081438\n",
       "4 -0.304690  0.307704 -0.003015"
      ],
      "text/html": "<div>\n<style scoped>\n    .dataframe tbody tr th:only-of-type {\n        vertical-align: middle;\n    }\n\n    .dataframe tbody tr th {\n        vertical-align: top;\n    }\n\n    .dataframe thead th {\n        text-align: right;\n    }\n</style>\n<table border=\"1\" class=\"dataframe\">\n  <thead>\n    <tr style=\"text-align: right;\">\n      <th></th>\n      <th>0</th>\n      <th>1</th>\n      <th>2</th>\n    </tr>\n  </thead>\n  <tbody>\n    <tr>\n      <th>0</th>\n      <td>-0.232061</td>\n      <td>-0.275413</td>\n      <td>0.507474</td>\n    </tr>\n    <tr>\n      <th>1</th>\n      <td>0.480337</td>\n      <td>-0.262921</td>\n      <td>-0.217417</td>\n    </tr>\n    <tr>\n      <th>2</th>\n      <td>0.185270</td>\n      <td>-0.467069</td>\n      <td>0.281800</td>\n    </tr>\n    <tr>\n      <th>3</th>\n      <td>-0.003800</td>\n      <td>0.085237</td>\n      <td>-0.081438</td>\n    </tr>\n    <tr>\n      <th>4</th>\n      <td>-0.304690</td>\n      <td>0.307704</td>\n      <td>-0.003015</td>\n    </tr>\n  </tbody>\n</table>\n</div>"
     },
     "metadata": {},
     "execution_count": 30
    }
   ],
   "source": [
    "# 23. Given a DataFrame of numeric values, say\n",
    "\n",
    "# df = pd.DataFrame(np.random.random(size=(5, 3))) # a 5x3 frame of float values\n",
    "# how do you subtract the row mean from each element in the row?\n",
    "df = pd.DataFrame(np.random.random(size=(5, 3))) \n",
    "print(df)\n",
    "# print(list(map(lambda x:print(x),df)))\n",
    "df.sub(df.mean(axis=1), axis=0)\n"
   ]
  },
  {
   "cell_type": "code",
   "execution_count": 28,
   "metadata": {},
   "outputs": [
    {
     "output_type": "stream",
     "name": "stdout",
     "text": [
      "          a         b         c         d         e         f         g  \\\n0  0.555167  0.780785  0.358890  0.456861  0.911854  0.621409  0.232338   \n1  0.803773  0.392910  0.804176  0.849282  0.141850  0.963423  0.376495   \n2  0.648619  0.456188  0.873693  0.863461  0.934337  0.953846  0.575582   \n3  0.411361  0.416726  0.602978  0.607431  0.609659  0.576993  0.440350   \n4  0.909686  0.894532  0.650423  0.692423  0.624782  0.223664  0.593529   \n\n          h         i         j  \n0  0.892846  0.332381  0.756347  \n1  0.868628  0.053898  0.178299  \n2  0.294570  0.978821  0.886000  \n3  0.266799  0.973247  0.677174  \n4  0.778980  0.076318  0.431861  \n2.2182936641852224\n"
     ]
    }
   ],
   "source": [
    "\n",
    "# 24. Suppose you have DataFrame with 10 columns of real numbers, for example:\n",
    "\n",
    "# df = pd.DataFrame(np.random.random(size=(5, 10)), columns=list('abcdefghij'))\n",
    "# Which column of numbers has the smallest sum? (Find that column's label.)\n",
    "df = pd.DataFrame(np.random.random(size=(5, 10)), columns=list('abcdefghij'))\n",
    "\n",
    "print(df)\n",
    "\n",
    "print(min(df.sum(axis=0)))\n"
   ]
  },
  {
   "cell_type": "code",
   "execution_count": null,
   "metadata": {},
   "outputs": [],
   "source": []
  }
 ]
}